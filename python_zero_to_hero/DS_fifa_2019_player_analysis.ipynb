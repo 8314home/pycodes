{
 "cells": [
  {
   "cell_type": "code",
   "execution_count": 37,
   "metadata": {},
   "outputs": [
    {
     "data": {
      "text/plain": [
       "<bound method DataFrame.info of                    Name   Wage    Value\n",
       "2             Neymar Jr  €290K  €118.5M\n",
       "27             Casemiro  €285K   €59.5M\n",
       "32             Coutinho  €340K   €69.5M\n",
       "35              Marcelo  €285K     €43M\n",
       "39         Thiago Silva  €165K     €24M\n",
       "...                 ...    ...      ...\n",
       "17059  Gianluca Zanette    €1K    €120K\n",
       "17446         Strefezza    €2K    €100K\n",
       "17588     Lucas Ribeiro    €1K    €130K\n",
       "17611   Felipe Ferreyra    €1K    €130K\n",
       "18170   Nicolas Firmino    €1K     €60K\n",
       "\n",
       "[827 rows x 3 columns]>"
      ]
     },
     "execution_count": 37,
     "metadata": {},
     "output_type": "execute_result"
    }
   ],
   "source": [
    "import pandas as pd\n",
    "df = pd.read_csv(\"src/fifa_2019_data.csv\")\n",
    "#df.describe()\n",
    "brazil_players_df = df[df[\"Nationality\"]==\"Brazil\"]\n",
    "brazil_players_df_2 = pd.DataFrame(brazil_players_df,columns=[\"Name\", \"Wage\", \"Value\"])\n",
    "brazil_players_df_2.info"
   ]
  },
  {
   "cell_type": "code",
   "execution_count": 43,
   "metadata": {},
   "outputs": [
    {
     "data": {
      "text/plain": [
       "<bound method DataFrame.info of                    Name      Wage        Value   difference\n",
       "2             Neymar Jr  290000.0  118500000.0  118210000.0\n",
       "27             Casemiro  285000.0   59500000.0   59215000.0\n",
       "32             Coutinho  340000.0   69500000.0   69160000.0\n",
       "35              Marcelo  285000.0   43000000.0   42715000.0\n",
       "39         Thiago Silva  165000.0   24000000.0   23835000.0\n",
       "...                 ...       ...          ...          ...\n",
       "17059  Gianluca Zanette    1000.0     120000.0     119000.0\n",
       "17446         Strefezza    2000.0     100000.0      98000.0\n",
       "17588     Lucas Ribeiro    1000.0     130000.0     129000.0\n",
       "17611   Felipe Ferreyra    1000.0     130000.0     129000.0\n",
       "18170   Nicolas Firmino    1000.0      60000.0      59000.0\n",
       "\n",
       "[827 rows x 4 columns]>"
      ]
     },
     "execution_count": 43,
     "metadata": {},
     "output_type": "execute_result"
    }
   ],
   "source": [
    "def convert_to_number(x):\n",
    "    if type(x) == float or type(x) == int:\n",
    "        return x\n",
    "    if 'K' in x:\n",
    "        if len(x) > 1:\n",
    "            return float(x.replace('K',''))*1000\n",
    "        return 1000.0\n",
    "    if 'M' in x:\n",
    "        if len(x) > 1:\n",
    "            return float(x.replace('M',''))*1000000\n",
    "        return 1000000\n",
    "    return 0\n",
    "        \n",
    "brazil_players_df_2[\"Wage\"] = brazil_players_df_2[\"Wage\"].replace('[\\€]','',regex=True).apply(convert_to_number)\n",
    "brazil_players_df_2[\"Value\"] = brazil_players_df_2[\"Value\"].replace('[\\€]','',regex=True).apply(convert_to_number)\n",
    "brazil_players_df_2[\"difference\"] = brazil_players_df_2[\"Value\"] - brazil_players_df_2[\"Wage\"]\n",
    "brazil_players_df_2.info"
   ]
  },
  {
   "cell_type": "code",
   "execution_count": 52,
   "metadata": {
    "scrolled": true
   },
   "outputs": [
    {
     "data": {
      "text/plain": [
       "Name          827\n",
       "Wage          827\n",
       "Value         827\n",
       "difference    827\n",
       "dtype: int64"
      ]
     },
     "execution_count": 52,
     "metadata": {},
     "output_type": "execute_result"
    }
   ],
   "source": [
    "brazil_players_df_2.count()\n",
    "\n"
   ]
  },
  {
   "cell_type": "code",
   "execution_count": 56,
   "metadata": {},
   "outputs": [
    {
     "data": {
      "text/html": [
       "<div>\n",
       "<style scoped>\n",
       "    .dataframe tbody tr th:only-of-type {\n",
       "        vertical-align: middle;\n",
       "    }\n",
       "\n",
       "    .dataframe tbody tr th {\n",
       "        vertical-align: top;\n",
       "    }\n",
       "\n",
       "    .dataframe thead th {\n",
       "        text-align: right;\n",
       "    }\n",
       "</style>\n",
       "<table border=\"1\" class=\"dataframe\">\n",
       "  <thead>\n",
       "    <tr style=\"text-align: right;\">\n",
       "      <th></th>\n",
       "      <th>Name</th>\n",
       "      <th>Wage</th>\n",
       "      <th>Value</th>\n",
       "      <th>difference</th>\n",
       "    </tr>\n",
       "  </thead>\n",
       "  <tbody>\n",
       "    <tr>\n",
       "      <th>2</th>\n",
       "      <td>Neymar Jr</td>\n",
       "      <td>290000.0</td>\n",
       "      <td>118500000.0</td>\n",
       "      <td>118210000.0</td>\n",
       "    </tr>\n",
       "    <tr>\n",
       "      <th>32</th>\n",
       "      <td>Coutinho</td>\n",
       "      <td>340000.0</td>\n",
       "      <td>69500000.0</td>\n",
       "      <td>69160000.0</td>\n",
       "    </tr>\n",
       "    <tr>\n",
       "      <th>27</th>\n",
       "      <td>Casemiro</td>\n",
       "      <td>285000.0</td>\n",
       "      <td>59500000.0</td>\n",
       "      <td>59215000.0</td>\n",
       "    </tr>\n",
       "    <tr>\n",
       "      <th>61</th>\n",
       "      <td>Roberto Firmino</td>\n",
       "      <td>195000.0</td>\n",
       "      <td>53000000.0</td>\n",
       "      <td>52805000.0</td>\n",
       "    </tr>\n",
       "    <tr>\n",
       "      <th>65</th>\n",
       "      <td>Douglas Costa</td>\n",
       "      <td>175000.0</td>\n",
       "      <td>46500000.0</td>\n",
       "      <td>46325000.0</td>\n",
       "    </tr>\n",
       "    <tr>\n",
       "      <th>...</th>\n",
       "      <td>...</td>\n",
       "      <td>...</td>\n",
       "      <td>...</td>\n",
       "      <td>...</td>\n",
       "    </tr>\n",
       "    <tr>\n",
       "      <th>7129</th>\n",
       "      <td>Rafinha</td>\n",
       "      <td>1000.0</td>\n",
       "      <td>100000.0</td>\n",
       "      <td>99000.0</td>\n",
       "    </tr>\n",
       "    <tr>\n",
       "      <th>8225</th>\n",
       "      <td>Accioly</td>\n",
       "      <td>2000.0</td>\n",
       "      <td>100000.0</td>\n",
       "      <td>98000.0</td>\n",
       "    </tr>\n",
       "    <tr>\n",
       "      <th>17446</th>\n",
       "      <td>Strefezza</td>\n",
       "      <td>2000.0</td>\n",
       "      <td>100000.0</td>\n",
       "      <td>98000.0</td>\n",
       "    </tr>\n",
       "    <tr>\n",
       "      <th>18170</th>\n",
       "      <td>Nicolas Firmino</td>\n",
       "      <td>1000.0</td>\n",
       "      <td>60000.0</td>\n",
       "      <td>59000.0</td>\n",
       "    </tr>\n",
       "    <tr>\n",
       "      <th>864</th>\n",
       "      <td>Hilton</td>\n",
       "      <td>18000.0</td>\n",
       "      <td>0.0</td>\n",
       "      <td>-18000.0</td>\n",
       "    </tr>\n",
       "  </tbody>\n",
       "</table>\n",
       "<p>827 rows × 4 columns</p>\n",
       "</div>"
      ],
      "text/plain": [
       "                  Name      Wage        Value   difference\n",
       "2            Neymar Jr  290000.0  118500000.0  118210000.0\n",
       "32            Coutinho  340000.0   69500000.0   69160000.0\n",
       "27            Casemiro  285000.0   59500000.0   59215000.0\n",
       "61     Roberto Firmino  195000.0   53000000.0   52805000.0\n",
       "65       Douglas Costa  175000.0   46500000.0   46325000.0\n",
       "...                ...       ...          ...          ...\n",
       "7129           Rafinha    1000.0     100000.0      99000.0\n",
       "8225           Accioly    2000.0     100000.0      98000.0\n",
       "17446        Strefezza    2000.0     100000.0      98000.0\n",
       "18170  Nicolas Firmino    1000.0      60000.0      59000.0\n",
       "864             Hilton   18000.0          0.0     -18000.0\n",
       "\n",
       "[827 rows x 4 columns]"
      ]
     },
     "execution_count": 56,
     "metadata": {},
     "output_type": "execute_result"
    }
   ],
   "source": [
    "brazil_players_df_3 = brazil_players_df_2.sort_values(\"difference\",ascending=False)\n",
    "brazil_players_df_3"
   ]
  },
  {
   "cell_type": "code",
   "execution_count": 49,
   "metadata": {},
   "outputs": [
    {
     "data": {
      "text/plain": [
       "<matplotlib.axes._subplots.AxesSubplot at 0x117c8bb10>"
      ]
     },
     "execution_count": 49,
     "metadata": {},
     "output_type": "execute_result"
    },
    {
     "data": {
      "image/png": "[encoded data removed]",
      "text/plain": [
       "<Figure size 432x288 with 1 Axes>"
      ]
     },
     "metadata": {},
     "output_type": "display_data"
    }
   ],
   "source": [
    "import seaborn as sns\n",
    "sns.set()\n",
    "brazil_graph = sns.scatterplot(x='Wage', y='Value', data=brazil_players_df_3 )\n",
    "brazil_graph"
   ]
  },
  {
   "cell_type": "code",
   "execution_count": 64,
   "metadata": {},
   "outputs": [],
   "source": [
    "from bokeh.plotting import figure, show\n",
    "from bokeh.models import HoverTool\n",
    "\n",
    "TOOLTIPS = HoverTool(tooltips=[\n",
    "    (\"index\", \"$index\"),\n",
    "    (\"(Wage,Value)\", \"(@Wage, @Value)\"),\n",
    "    (\"Name\", \"@Name\")\n",
    "    ]\n",
    ")\n",
    "\n",
    "p = figure(title=\"Fifa 2019. Brazil players\", x_axis_label=\"Wage\", y_axis_label=\"Value\",plot_height=700,plot_width=700,tools=[TOOLTIPS])\n",
    "p.circle(\"Wage\",\"Value\",size=10, color=\"red\", source=brazil_players_df_3)\n",
    "show(p)"
   ]
  },
  {
   "cell_type": "code",
   "execution_count": null,
   "metadata": {},
   "outputs": [],
   "source": []
  }
 ],
 "metadata": {
  "kernelspec": {
   "display_name": "Python 3",
   "language": "python",
   "name": "python3"
  },
  "language_info": {
   "codemirror_mode": {
    "name": "ipython",
    "version": 3
   },
   "file_extension": ".py",
   "mimetype": "text/x-python",
   "name": "python",
   "nbconvert_exporter": "python",
   "pygments_lexer": "ipython3",
   "version": "3.7.6"
  }
 },
 "nbformat": 4,
 "nbformat_minor": 4
}
